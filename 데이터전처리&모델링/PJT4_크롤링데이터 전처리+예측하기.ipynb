{
 "cells": [
  {
   "cell_type": "markdown",
   "id": "497de583",
   "metadata": {},
   "source": [
    "## 전처리"
   ]
  },
  {
   "cell_type": "code",
   "execution_count": null,
   "id": "1fcc705c",
   "metadata": {},
   "outputs": [],
   "source": [
    "import numpy as np\n",
    "import pandas as pd\n",
    "import random\n",
    "\n",
    "#여러변수출력코드\n",
    "from IPython.core.interactiveshell import InteractiveShell\n",
    "InteractiveShell.ast_node_interactivity=\"all\""
   ]
  },
  {
   "cell_type": "code",
   "execution_count": null,
   "id": "a56a1363",
   "metadata": {},
   "outputs": [],
   "source": [
    "# 크롤링 df 컬럼명 바꾸기\n",
    "\n",
    "df = pd.read_csv('weather_scraping2.csv', encoding='cp949')\n",
    "df.drop(['Unnamed: 0'],axis=1 , inplace=True)\n",
    "df.columns = ['날짜','지역','일시','기온(°C)','기상상태','습도(%)']"
   ]
  },
  {
   "cell_type": "code",
   "execution_count": null,
   "id": "3dc70435",
   "metadata": {},
   "outputs": [],
   "source": [
    "# 컬럼 순서 바꾸기\n",
    "\n",
    "df1 = df[['날짜','지역','일시','기상상태','기온(°C)','습도(%)']]"
   ]
  },
  {
   "cell_type": "code",
   "execution_count": null,
   "id": "4b534fcc",
   "metadata": {},
   "outputs": [],
   "source": [
    "# 일시 값 숫자만 남기기\n",
    "\n",
    "time_h = df1['일시'].values.tolist()\n",
    "\n",
    "\n",
    "h_time = []\n",
    "for i in time_h:\n",
    "    h = i[0:2]\n",
    "    h_time.append(int(h))\n",
    "    \n",
    "df1['일시'] = h_time"
   ]
  },
  {
   "cell_type": "code",
   "execution_count": null,
   "id": "c7a58a5e",
   "metadata": {},
   "outputs": [],
   "source": [
    "time_h = pd_data['일시'].values.tolist()\n",
    "\n",
    "h_time = []\n",
    "for i in time_h:\n",
    "    h = i[0:2]\n",
    "    h_time.append(int(h))\n",
    "    \n",
    "pd_data['일시'] = h_time"
   ]
  },
  {
   "cell_type": "code",
   "execution_count": null,
   "id": "edd207a5",
   "metadata": {},
   "outputs": [],
   "source": [
    "# 기상상태 값 수치화\n",
    "\n",
    "df2 = df1\n",
    "\n",
    "weather = pd_data['기상상태'].values.tolist()\n",
    "weather_n = []\n",
    "for w in weather:\n",
    "    if (w == \"눈\") or (w==\"비\"):\n",
    "        w=1.342\n",
    "        weather_n.append(w)\n",
    "    elif w==\"안개\":\n",
    "        w=2\n",
    "        weather_n.append(w)\n",
    "    else:\n",
    "        w=1\n",
    "        weather_n.append(w)\n",
    "        \n",
    "pd_data['기상상태'] = weather_n"
   ]
  },
  {
   "cell_type": "code",
   "execution_count": null,
   "id": "4b5b8591",
   "metadata": {},
   "outputs": [],
   "source": [
    "df2.drop(['날짜'],axis=1 , inplace=True)\n",
    "df2.drop(['지역'],axis=1 , inplace=True)\n",
    "\n",
    "#x_test 전처리 완료"
   ]
  },
  {
   "cell_type": "markdown",
   "id": "1c974045",
   "metadata": {},
   "source": [
    "## 예측"
   ]
  },
  {
   "cell_type": "code",
   "execution_count": null,
   "id": "39e7c6fc",
   "metadata": {},
   "outputs": [],
   "source": [
    "#모델 불러오기\n",
    "\n",
    "import joblib\n",
    "\n",
    "model = joblib.load('./결빙사고데이터/best_model.pkl')"
   ]
  },
  {
   "cell_type": "markdown",
   "id": "49eec601",
   "metadata": {},
   "source": [
    "##### 모델 다시 학습시키기..."
   ]
  },
  {
   "cell_type": "code",
   "execution_count": null,
   "id": "28b94275",
   "metadata": {},
   "outputs": [],
   "source": [
    "import numpy as np\n",
    "import pandas as pd\n",
    "import random\n",
    "\n",
    "#여러변수출력코드\n",
    "from IPython.core.interactiveshell import InteractiveShell\n",
    "InteractiveShell.ast_node_interactivity=\"all\"\n",
    "\n",
    "#모델링\n",
    "from sklearn.model_selection import train_test_split\n",
    "from sklearn.ensemble import RandomForestClassifier\n",
    "from sklearn.metrics import accuracy_score\n",
    "from sklearn.metrics import classification_report\n",
    "from sklearn.model_selection import cross_val_score\n",
    "\n",
    "from sklearn.model_selection import GridSearchCV\n",
    "from sklearn.metrics import accuracy_score, recall_score, precision_score, mean_squared_error, mean_absolute_error, r2_score\n",
    "from sklearn.metrics import plot_confusion_matrix\n",
    "from sklearn.model_selection import KFold \n",
    "from sklearn.neighbors import KNeighborsClassifier\n",
    "from sklearn.ensemble import RandomForestRegressor\n",
    "from sklearn.tree import DecisionTreeClassifier, DecisionTreeRegressor\n",
    "\n",
    "from tqdm import tqdm\n",
    "import seaborn as sns\n",
    "\n",
    "#시각화\n",
    "import matplotlib.pyplot as plt \n",
    "import matplotlib \n",
    "from matplotlib.colors import ListedColormap \n",
    "matplotlib.rcParams['axes.unicode_minus'] = False"
   ]
  },
  {
   "cell_type": "code",
   "execution_count": null,
   "id": "5cbd4ab2",
   "metadata": {},
   "outputs": [],
   "source": [
    "df = pd.read_csv('./결빙사고데이터/결빙사고데이터_최종전처리.csv', encoding='cp949')"
   ]
  },
  {
   "cell_type": "code",
   "execution_count": null,
   "id": "44fc93db",
   "metadata": {},
   "outputs": [],
   "source": [
    "df.drop(['Unnamed: 0'],axis=1, inplace=True)\n",
    "# 라벨과 데이터 변수로 구분하기 \n",
    "y = df['사고내용']\n",
    "x = df.drop('사고내용', axis=1)\n",
    "\n",
    "# 학습 데이터 : 테스트 데이터 = 8:2\n",
    "x_train, x_test, y_train, y_test = train_test_split(x,y, test_size=0.2)"
   ]
  },
  {
   "cell_type": "code",
   "execution_count": null,
   "id": "edb4b30c",
   "metadata": {},
   "outputs": [],
   "source": [
    "model.fit(x_train, y_train)\n",
    "score = model.score(x_test, y_test)\n",
    "\n",
    "# Train set에 대한 성능 확인하기\n",
    "y_pred = model.predict(x_train)\n",
    "acc = accuracy_score(y_true = y_train, y_pred = y_pred)\n",
    "print('Train set에 대한 성능')\n",
    "print(f'정확도:{acc:0.4f}')\n",
    "\n",
    "# Test set에 대한 성능 확인하기\n",
    "y_pred = model.predict(x_test) \n",
    "acc = accuracy_score(y_true = y_test, y_pred = y_pred)\n",
    "print('\\n')\n",
    "print('Test set에 대한 성능')\n",
    "print(f'정확도:{acc:0.4f}')"
   ]
  },
  {
   "cell_type": "markdown",
   "id": "a544ed57",
   "metadata": {},
   "source": [
    "##### x_test에 크롤링 전처리 데이터 array 형태로 변환해서 값 넣고 돌리기"
   ]
  },
  {
   "cell_type": "code",
   "execution_count": null,
   "id": "41f2f709",
   "metadata": {},
   "outputs": [],
   "source": [
    "x_test = df2.to_numpy()"
   ]
  },
  {
   "cell_type": "code",
   "execution_count": null,
   "id": "6ff20a07",
   "metadata": {},
   "outputs": [],
   "source": [
    "y_pred = model.predict(x_test)"
   ]
  },
  {
   "cell_type": "code",
   "execution_count": null,
   "id": "c73e7656",
   "metadata": {},
   "outputs": [],
   "source": [
    "# y_pred =  위험도 array"
   ]
  },
  {
   "cell_type": "code",
   "execution_count": null,
   "id": "33321a10",
   "metadata": {},
   "outputs": [],
   "source": []
  },
  {
   "cell_type": "code",
   "execution_count": null,
   "id": "45b0a9df",
   "metadata": {},
   "outputs": [],
   "source": []
  }
 ],
 "metadata": {
  "kernelspec": {
   "display_name": "Python 3 (ipykernel)",
   "language": "python",
   "name": "python3"
  },
  "language_info": {
   "codemirror_mode": {
    "name": "ipython",
    "version": 3
   },
   "file_extension": ".py",
   "mimetype": "text/x-python",
   "name": "python",
   "nbconvert_exporter": "python",
   "pygments_lexer": "ipython3",
   "version": "3.9.7"
  }
 },
 "nbformat": 4,
 "nbformat_minor": 5
}
